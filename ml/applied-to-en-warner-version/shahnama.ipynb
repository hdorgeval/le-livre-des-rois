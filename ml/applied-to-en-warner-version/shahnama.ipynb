{
 "cells": [
  {
   "cell_type": "markdown",
   "metadata": {},
   "source": [
    "# THE SHAHNAMA OF FIRDAUSI\n",
    "# DONE INTO ENGLISH BY\n",
    "# ARTHUR GEORGE WARNER, M.A. AND\n",
    "\n",
    "---\n",
    "\n",
    "> The homes that are the dwellings of today\n",
    ">\n",
    ">Will sink 'neath shower and sunshine to decay,\n",
    ">\n",
    ">But storm and rain shall never mar what I\n",
    ">\n",
    ">Have built - the palace of my poetry.\n",
    "\n",
    "---\n",
    "\n",
    "# EDMOND WARNER, B.A.\n",
    "\n",
    "<p style=\"center\">\n",
    "LONDON\n",
    "KEGAN PAUL, TRENCH, TRUBNER & CO. L DEYDEN HOUSE, GERRARD STREET, W.\n",
    "1905\n",
    "</p>"
   ]
  },
  {
   "cell_type": "markdown",
   "metadata": {},
   "source": [
    "# Problem definition"
   ]
  },
  {
   "cell_type": "markdown",
   "metadata": {},
   "source": [
    "The 1905 printed edition of the Shahnahme has been digitized in 2007, but the result of this OCR process does not make the difference betwwen the text itself, the notes, the chapter headers, and the page numbers.\n",
    "\n",
    "In many cases the OCR took part of a line and inject it somewhere in next lines.\n",
    "The net result is that the text must be manually checked and fixed at many places on each page.\n",
    "\n",
    "So the idea is to apply state-of-the-art machine learning tools to the orginal document to automatically extract the text without introducing any defects."
   ]
  },
  {
   "cell_type": "markdown",
   "metadata": {},
   "source": [
    "# Data sourcing"
   ]
  },
  {
   "cell_type": "markdown",
   "metadata": {},
   "source": [
    "The data sourcing part is done in that the notebook placed in `/docs/books/en/warner`"
   ]
  },
  {
   "cell_type": "markdown",
   "metadata": {},
   "source": [
    "### setup project dir"
   ]
  },
  {
   "cell_type": "code",
   "execution_count": 4,
   "metadata": {},
   "outputs": [
    {
     "name": "stdout",
     "output_type": "stream",
     "text": [
      "/Users/HDO/VSCodeProjects/le-livre-des-rois\n"
     ]
    }
   ],
   "source": [
    "import pathlib\n",
    "import os\n",
    "\n",
    "projectDir = pathlib.Path(os.getcwd()).parent.parent.absolute()\n",
    "print(projectDir)"
   ]
  }
 ],
 "metadata": {
  "interpreter": {
   "hash": "a9b1a23cbecf99ac4905cbdcebb1f34794d602bf319dcef923464b1b6ee43d90"
  },
  "kernelspec": {
   "display_name": "Python 3.9.7 64-bit ('.venv': venv)",
   "name": "python3"
  },
  "language_info": {
   "codemirror_mode": {
    "name": "ipython",
    "version": 3
   },
   "file_extension": ".py",
   "mimetype": "text/x-python",
   "name": "python",
   "nbconvert_exporter": "python",
   "pygments_lexer": "ipython3",
   "version": "3.9.7"
  },
  "orig_nbformat": 4
 },
 "nbformat": 4,
 "nbformat_minor": 2
}
