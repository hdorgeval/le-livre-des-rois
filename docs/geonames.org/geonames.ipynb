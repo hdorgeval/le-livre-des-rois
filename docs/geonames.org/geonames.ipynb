{
 "cells": [
  {
   "cell_type": "markdown",
   "metadata": {},
   "source": [
    "# Geonames"
   ]
  },
  {
   "cell_type": "markdown",
   "metadata": {},
   "source": [
    "# Data sourcing"
   ]
  },
  {
   "cell_type": "markdown",
   "metadata": {},
   "source": [
    "## Afghanistan\n",
    "\n",
    "[geonames.org](https://www.geonames.org/) / \n",
    "[geonames](https://download.geonames.org/export/dump/AF.zip) / [alternate names](https://download.geonames.org/export/dump/alternatenames/AF.zip)\n",
    "\n"
   ]
  },
  {
   "cell_type": "markdown",
   "metadata": {},
   "source": [
    "### Afghanistan geonames download from [geonames dump](https://download.geonames.org/export/dump)"
   ]
  },
  {
   "cell_type": "code",
   "execution_count": 11,
   "metadata": {},
   "outputs": [
    {
     "name": "stdout",
     "output_type": "stream",
     "text": [
      "downloading geo names for Afghanistan ...\n"
     ]
    }
   ],
   "source": [
    "import wget\n",
    "import pathlib\n",
    "import os\n",
    "import zipfile\n",
    "\n",
    "print('downloading geo names for Afghanistan ...')\n",
    "\n",
    "sourceUrl = \"https://download.geonames.org/export/dump/AF.zip\"\n",
    "targetFile = os.path.join('./', 'AF.zip')\n",
    "\n",
    "wget.download(sourceUrl, targetFile)\n",
    "\n",
    "zip = zipfile.ZipFile(targetFile)\n",
    "zip.extract('AF.txt', './')\n",
    "zip.extract('readme.txt', './')\n",
    "zip.close()\n",
    "os.unlink(targetFile)\n"
   ]
  },
  {
   "cell_type": "markdown",
   "metadata": {},
   "source": [
    "### Afghanistan alternate names download from [geonames dump](https://download.geonames.org/export/dump)"
   ]
  },
  {
   "cell_type": "code",
   "execution_count": null,
   "metadata": {},
   "outputs": [
    {
     "name": "stdout",
     "output_type": "stream",
     "text": [
      "downloading alternate names for Afghanistan ...\n"
     ]
    }
   ],
   "source": [
    "print('downloading alternate names for Afghanistan ...')\n",
    "\n",
    "sourceUrl = \"https://download.geonames.org/export/dump/alternatenames/AF.zip\"\n",
    "targetFile = os.path.join('./', 'alternate-names', 'AF.zip')\n",
    "\n",
    "wget.download(sourceUrl, targetFile)\n",
    "\n",
    "zip = zipfile.ZipFile(targetFile)\n",
    "zip.extract('AF.txt', './alternate-names')\n",
    "zip.extract('readme.txt', './alternate-names')\n",
    "zip.close()\n",
    "os.unlink(targetFile)\n"
   ]
  },
  {
   "cell_type": "markdown",
   "metadata": {},
   "source": [
    "## Iran\n",
    "\n",
    "[geonames.org](https://www.geonames.org/) / \n",
    "[geonames](https://download.geonames.org/export/dump/IR.zip) / [alternate names](https://download.geonames.org/export/dump/alternatenames/IR.zip)\n",
    "\n"
   ]
  },
  {
   "cell_type": "markdown",
   "metadata": {},
   "source": [
    "### Iran geonames download from [geonames dump](https://download.geonames.org/export/dump)"
   ]
  },
  {
   "cell_type": "code",
   "execution_count": 12,
   "metadata": {},
   "outputs": [
    {
     "name": "stdout",
     "output_type": "stream",
     "text": [
      "downloading geo names for Iran ...\n"
     ]
    }
   ],
   "source": [
    "import wget\n",
    "import pathlib\n",
    "import os\n",
    "import zipfile\n",
    "\n",
    "print('downloading geo names for Iran ...')\n",
    "\n",
    "sourceUrl = \"https://download.geonames.org/export/dump/IR.zip\"\n",
    "targetFile = os.path.join('./', 'IR.zip')\n",
    "\n",
    "wget.download(sourceUrl, targetFile)\n",
    "\n",
    "zip = zipfile.ZipFile(targetFile)\n",
    "zip.extract('IR.txt', './')\n",
    "zip.extract('readme.txt', './')\n",
    "zip.close()\n",
    "os.unlink(targetFile)\n"
   ]
  },
  {
   "cell_type": "markdown",
   "metadata": {},
   "source": [
    "### Iran alternate names download from [geonames dump](https://download.geonames.org/export/dump)"
   ]
  },
  {
   "cell_type": "code",
   "execution_count": 13,
   "metadata": {},
   "outputs": [
    {
     "name": "stdout",
     "output_type": "stream",
     "text": [
      "downloading alternate names for Iran ...\n"
     ]
    }
   ],
   "source": [
    "print('downloading alternate names for Iran ...')\n",
    "\n",
    "sourceUrl = \"https://download.geonames.org/export/dump/alternatenames/IR.zip\"\n",
    "targetFile = os.path.join('./', 'alternate-names', 'IR.zip')\n",
    "\n",
    "wget.download(sourceUrl, targetFile)\n",
    "\n",
    "zip = zipfile.ZipFile(targetFile)\n",
    "zip.extract('IR.txt', './alternate-names')\n",
    "zip.extract('readme.txt', './alternate-names')\n",
    "zip.close()\n",
    "os.unlink(targetFile)\n"
   ]
  },
  {
   "cell_type": "code",
   "execution_count": 14,
   "metadata": {},
   "outputs": [
    {
     "name": "stdout",
     "output_type": "stream",
     "text": [
      "downloading alternate names for Afghanistan ...\n"
     ]
    }
   ],
   "source": [
    "print('downloading alternate names for Afghanistan ...')\n",
    "\n",
    "sourceUrl = \"https://download.geonames.org/export/dump/alternatenames/AF.zip\"\n",
    "targetFile = os.path.join('./', 'alternate-names', 'AF.zip')\n",
    "\n",
    "wget.download(sourceUrl, targetFile)\n",
    "\n",
    "zip = zipfile.ZipFile(targetFile)\n",
    "zip.extract('AF.txt', './alternate-names')\n",
    "zip.extract('readme.txt', './alternate-names')\n",
    "zip.close()\n",
    "os.unlink(targetFile)\n"
   ]
  },
  {
   "cell_type": "markdown",
   "metadata": {},
   "source": []
  },
  {
   "cell_type": "markdown",
   "metadata": {},
   "source": [
    "## Pakistan\n",
    "\n",
    "[geonames.org](https://www.geonames.org/) / \n",
    "[geonames](https://download.geonames.org/export/dump/PK.zip) / [alternate names](https://download.geonames.org/export/dump/alternatenames/PK.zip)\n",
    "\n"
   ]
  },
  {
   "cell_type": "markdown",
   "metadata": {},
   "source": [
    "### Pakistan geonames download from [geonames dump](https://download.geonames.org/export/dump)"
   ]
  },
  {
   "cell_type": "code",
   "execution_count": 15,
   "metadata": {},
   "outputs": [
    {
     "name": "stdout",
     "output_type": "stream",
     "text": [
      "downloading geo names for Pakistan ...\n"
     ]
    }
   ],
   "source": [
    "import wget\n",
    "import pathlib\n",
    "import os\n",
    "import zipfile\n",
    "\n",
    "print('downloading geo names for Pakistan ...')\n",
    "\n",
    "sourceUrl = \"https://download.geonames.org/export/dump/PK.zip\"\n",
    "targetFile = os.path.join('./', 'PK.zip')\n",
    "\n",
    "wget.download(sourceUrl, targetFile)\n",
    "\n",
    "zip = zipfile.ZipFile(targetFile)\n",
    "zip.extract('PK.txt', './')\n",
    "zip.extract('readme.txt', './')\n",
    "zip.close()\n",
    "os.unlink(targetFile)\n"
   ]
  },
  {
   "cell_type": "markdown",
   "metadata": {},
   "source": [
    "### Pakistan alternate names download from [geonames dump](https://download.geonames.org/export/dump)"
   ]
  },
  {
   "cell_type": "code",
   "execution_count": 16,
   "metadata": {},
   "outputs": [
    {
     "name": "stdout",
     "output_type": "stream",
     "text": [
      "downloading alternate names for Pakistan ...\n"
     ]
    }
   ],
   "source": [
    "print('downloading alternate names for Pakistan ...')\n",
    "\n",
    "sourceUrl = \"https://download.geonames.org/export/dump/alternatenames/PK.zip\"\n",
    "targetFile = os.path.join('./', 'alternate-names', 'PK.zip')\n",
    "\n",
    "wget.download(sourceUrl, targetFile)\n",
    "\n",
    "zip = zipfile.ZipFile(targetFile)\n",
    "zip.extract('PK.txt', './alternate-names')\n",
    "zip.extract('readme.txt', './alternate-names')\n",
    "zip.close()\n",
    "os.unlink(targetFile)\n"
   ]
  },
  {
   "cell_type": "code",
   "execution_count": 17,
   "metadata": {},
   "outputs": [
    {
     "name": "stdout",
     "output_type": "stream",
     "text": [
      "downloading alternate names for Afghanistan ...\n"
     ]
    }
   ],
   "source": [
    "print('downloading alternate names for Afghanistan ...')\n",
    "\n",
    "sourceUrl = \"https://download.geonames.org/export/dump/alternatenames/AF.zip\"\n",
    "targetFile = os.path.join('./', 'alternate-names', 'AF.zip')\n",
    "\n",
    "wget.download(sourceUrl, targetFile)\n",
    "\n",
    "zip = zipfile.ZipFile(targetFile)\n",
    "zip.extract('AF.txt', './alternate-names')\n",
    "zip.extract('readme.txt', './alternate-names')\n",
    "zip.close()\n",
    "os.unlink(targetFile)\n"
   ]
  },
  {
   "cell_type": "markdown",
   "metadata": {},
   "source": []
  },
  {
   "cell_type": "markdown",
   "metadata": {},
   "source": [
    "## Turkmenistan\n",
    "\n",
    "[geonames.org](https://www.geonames.org/) / \n",
    "[geonames](https://download.geonames.org/export/dump/TM.zip) / [alternate names](https://download.geonames.org/export/dump/alternatenames/TM.zip)\n",
    "\n"
   ]
  },
  {
   "cell_type": "markdown",
   "metadata": {},
   "source": [
    "### Turkmenistan geonames download from [geonames dump](https://download.geonames.org/export/dump)"
   ]
  },
  {
   "cell_type": "code",
   "execution_count": null,
   "metadata": {},
   "outputs": [
    {
     "name": "stdout",
     "output_type": "stream",
     "text": [
      "downloading geo names for Iran ...\n"
     ]
    }
   ],
   "source": [
    "import wget\n",
    "import pathlib\n",
    "import os\n",
    "import zipfile\n",
    "\n",
    "print('downloading geo names for Turkmenistan ...')\n",
    "\n",
    "sourceUrl = \"https://download.geonames.org/export/dump/TM.zip\"\n",
    "targetFile = os.path.join('./', 'TM.zip')\n",
    "\n",
    "wget.download(sourceUrl, targetFile)\n",
    "\n",
    "zip = zipfile.ZipFile(targetFile)\n",
    "zip.extract('TM.txt', './')\n",
    "zip.extract('readme.txt', './')\n",
    "zip.close()\n",
    "os.unlink(targetFile)\n"
   ]
  },
  {
   "cell_type": "markdown",
   "metadata": {},
   "source": [
    "### Turkmenistan alternate names download from [geonames dump](https://download.geonames.org/export/dump)"
   ]
  },
  {
   "cell_type": "code",
   "execution_count": 18,
   "metadata": {},
   "outputs": [
    {
     "name": "stdout",
     "output_type": "stream",
     "text": [
      "downloading alternate names for Turkmenistan ...\n"
     ]
    }
   ],
   "source": [
    "print('downloading alternate names for Turkmenistan ...')\n",
    "\n",
    "sourceUrl = \"https://download.geonames.org/export/dump/alternatenames/TM.zip\"\n",
    "targetFile = os.path.join('./', 'alternate-names', 'TM.zip')\n",
    "\n",
    "wget.download(sourceUrl, targetFile)\n",
    "\n",
    "zip = zipfile.ZipFile(targetFile)\n",
    "zip.extract('TM.txt', './alternate-names')\n",
    "zip.extract('readme.txt', './alternate-names')\n",
    "zip.close()\n",
    "os.unlink(targetFile)\n"
   ]
  },
  {
   "cell_type": "markdown",
   "metadata": {},
   "source": [
    "## Syria\n",
    "\n",
    "[geonames.org](https://www.geonames.org/) / \n",
    "[geonames](https://download.geonames.org/export/dump/SY.zip) / [alternate names](https://download.geonames.org/export/dump/alternatenames/SY.zip)\n",
    "\n"
   ]
  },
  {
   "cell_type": "markdown",
   "metadata": {},
   "source": [
    "### Syria geonames download from [geonames dump](https://download.geonames.org/export/dump)"
   ]
  },
  {
   "cell_type": "code",
   "execution_count": null,
   "metadata": {},
   "outputs": [
    {
     "name": "stdout",
     "output_type": "stream",
     "text": [
      "downloading geo names for Iran ...\n"
     ]
    }
   ],
   "source": [
    "import wget\n",
    "import pathlib\n",
    "import os\n",
    "import zipfile\n",
    "\n",
    "print('downloading geo names for Syria ...')\n",
    "\n",
    "sourceUrl = \"https://download.geonames.org/export/dump/SY.zip\"\n",
    "targetFile = os.path.join('./', 'SY.zip')\n",
    "\n",
    "wget.download(sourceUrl, targetFile)\n",
    "\n",
    "zip = zipfile.ZipFile(targetFile)\n",
    "zip.extract('SY.txt', './')\n",
    "zip.extract('readme.txt', './')\n",
    "zip.close()\n",
    "os.unlink(targetFile)\n"
   ]
  },
  {
   "cell_type": "markdown",
   "metadata": {},
   "source": [
    "### Syria alternate names download from [geonames dump](https://download.geonames.org/export/dump)"
   ]
  },
  {
   "cell_type": "code",
   "execution_count": null,
   "metadata": {},
   "outputs": [
    {
     "name": "stdout",
     "output_type": "stream",
     "text": [
      "downloading alternate names for Turkmenistan ...\n"
     ]
    }
   ],
   "source": [
    "print('downloading alternate names for Syria ...')\n",
    "\n",
    "sourceUrl = \"https://download.geonames.org/export/dump/alternatenames/SY.zip\"\n",
    "targetFile = os.path.join('./', 'alternate-names', 'SY.zip')\n",
    "\n",
    "wget.download(sourceUrl, targetFile)\n",
    "\n",
    "zip = zipfile.ZipFile(targetFile)\n",
    "zip.extract('SY.txt', './alternate-names')\n",
    "zip.extract('readme.txt', './alternate-names')\n",
    "zip.close()\n",
    "os.unlink(targetFile)\n"
   ]
  }
 ],
 "metadata": {
  "interpreter": {
   "hash": "a9b1a23cbecf99ac4905cbdcebb1f34794d602bf319dcef923464b1b6ee43d90"
  },
  "kernelspec": {
   "display_name": "Python 3.9.7 64-bit ('.venv': venv)",
   "name": "python3"
  },
  "language_info": {
   "codemirror_mode": {
    "name": "ipython",
    "version": 3
   },
   "file_extension": ".py",
   "mimetype": "text/x-python",
   "name": "python",
   "nbconvert_exporter": "python",
   "pygments_lexer": "ipython3",
   "version": "3.9.7"
  },
  "orig_nbformat": 4
 },
 "nbformat": 4,
 "nbformat_minor": 2
}
