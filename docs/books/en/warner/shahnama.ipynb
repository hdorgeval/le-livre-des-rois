{
 "cells": [
  {
   "cell_type": "markdown",
   "metadata": {},
   "source": [
    "# THE SHAHNAMA OF FIRDAUSI\n",
    "# DONE INTO ENGLISH BY\n",
    "# ARTHUR GEORGE WARNER, M.A. AND EDMOND WARNER, B.A.\n",
    "\n",
    "---\n",
    "\n",
    "> The homes that are the dwellings of today\n",
    ">\n",
    ">Will sink 'neath shower and sunshine to decay,\n",
    ">\n",
    ">But storm and rain shall never mar what I\n",
    ">\n",
    ">Have built - the palace of my poetry.\n",
    "\n",
    "---\n",
    "\n",
    "<p style=\"center\">\n",
    "LONDON\n",
    "KEGAN PAUL, TRENCH, TRUBNER & CO. L DEYDEN HOUSE, GERRARD STREET, W.\n",
    "1905\n",
    "</p>"
   ]
  },
  {
   "cell_type": "markdown",
   "metadata": {},
   "source": [
    "# Data sourcing"
   ]
  },
  {
   "cell_type": "markdown",
   "metadata": {},
   "source": [
    "## Book 1\n",
    "\n",
    "[archive.org](https://archive.org/details/FirdausiShahnamaTrWarnerVol1) / \n",
    "[pdf](https://ia902803.us.archive.org/19/items/FirdausiShahnamaTrWarnerVol1/FirdausiShahnamaTrWarnerVol1.pdf) / [text](https://archive.org/stream/FirdausiShahnamaTrWarnerVol1/FirdausiShahnamaTrWarnerVol1_djvu.txt)\n",
    "\n"
   ]
  },
  {
   "cell_type": "markdown",
   "metadata": {},
   "source": [
    "### Book 1 pdf download from [archive.org](https://archive.org/details/FirdausiShahnamaTrWarnerVol1)"
   ]
  },
  {
   "cell_type": "code",
   "execution_count": 1,
   "metadata": {},
   "outputs": [
    {
     "data": {
      "text/plain": [
       "'./book1.pdf'"
      ]
     },
     "execution_count": 1,
     "metadata": {},
     "output_type": "execute_result"
    }
   ],
   "source": [
    "import wget\n",
    "import pathlib\n",
    "import os\n",
    "\n",
    "sourceUrl = \"https://ia902803.us.archive.org/19/items/FirdausiShahnamaTrWarnerVol1/FirdausiShahnamaTrWarnerVol1.pdf\"\n",
    "wget.download(sourceUrl, os.path.join('./', 'book1.pdf'))\n"
   ]
  },
  {
   "cell_type": "markdown",
   "metadata": {},
   "source": [
    "### Book 1 text download from [archive.org](https://archive.org/details/FirdausiShahnamaTrWarnerVol1)"
   ]
  },
  {
   "cell_type": "code",
   "execution_count": 3,
   "metadata": {},
   "outputs": [
    {
     "data": {
      "text/plain": [
       "'./book1.txt'"
      ]
     },
     "execution_count": 3,
     "metadata": {},
     "output_type": "execute_result"
    }
   ],
   "source": [
    "import wget\n",
    "import pathlib\n",
    "import os\n",
    "\n",
    "sourceUrl = \"https://archive.org/stream/FirdausiShahnamaTrWarnerVol1/FirdausiShahnamaTrWarnerVol1_djvu.txt\"\n",
    "wget.download(sourceUrl, os.path.join('./', 'book1.txt'))\n"
   ]
  }
 ],
 "metadata": {
  "interpreter": {
   "hash": "a9b1a23cbecf99ac4905cbdcebb1f34794d602bf319dcef923464b1b6ee43d90"
  },
  "kernelspec": {
   "display_name": "Python 3.9.7 64-bit ('.venv': venv)",
   "name": "python3"
  },
  "language_info": {
   "codemirror_mode": {
    "name": "ipython",
    "version": 3
   },
   "file_extension": ".py",
   "mimetype": "text/x-python",
   "name": "python",
   "nbconvert_exporter": "python",
   "pygments_lexer": "ipython3",
   "version": "3.9.7"
  },
  "orig_nbformat": 4
 },
 "nbformat": 4,
 "nbformat_minor": 2
}
